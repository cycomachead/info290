{
 "cells": [
  {
   "cell_type": "markdown",
   "metadata": {},
   "source": [
    "# Lab 4- Decision Trees"
   ]
  },
  {
   "cell_type": "markdown",
   "metadata": {},
   "source": [
    "This assignment uses 2012 data obtained from the Federal Election Commission on contributions to candidates from committees. The data dictionary is available at http://www.fec.gov/finance/disclosure/metadata/DataDictionaryContributionstoCandidates.shtml. The file we've given you has been subset to 10,000 randomly sampled rows, wth some columns removed"
   ]
  },
  {
   "cell_type": "code",
   "execution_count": 7,
   "metadata": {
    "collapsed": false
   },
   "outputs": [],
   "source": [
    "from __future__ import division\n",
    "from collections import Counter, defaultdict\n",
    "from itertools import combinations \n",
    "import pandas as pd\n",
    "import numpy as np"
   ]
  },
  {
   "cell_type": "code",
   "execution_count": 8,
   "metadata": {
    "collapsed": false
   },
   "outputs": [
    {
     "data": {
      "text/plain": [
       "     CMTE_ID AMNDT_IND RPT_TP ENTITY_TP              NAME       CITY STATE  ZIP_CODE  TRANSACTION_DT  TRANSACTION_AMT CAND_ID\n",
       "0  C90011156         N     Q3       IND  ROULAND, PRESTON  CLEVELAND    OH     44135         9182012               26   Obama\n",
       "1  C90011156         N     Q3       IND    DANFORD, KAYLA     OXFORD    OH     45056         9242012               17   Obama\n",
       "2  C90011156         N     YE       IND    CLARK, BARBARA  WHITEHALL    OH     43213        10032012               18  Romney\n",
       "3  C90011156         N     YE       ORG   JENNIFER JANNON    DORMONT    PA     15216        10262012               11   Obama\n",
       "4  C90011156         N     YE       IND     ARNDI, PHILIP     BOSTON    MA      2115        11062012               57   Obama"
      ]
     },
     "execution_count": 8,
     "metadata": {},
     "output_type": "execute_result"
    }
   ],
   "source": [
    "df = pd.read_csv('lab4_candidate_contributions.csv')\n",
    "\n",
    "#convert zip code and transaction date from floats to strings (since we wnat to treat them as categorical)\n",
    "df.ZIP_CODE = df.ZIP_CODE.astype('int').astype('str')\n",
    "df.TRANSACTION_DT = df.TRANSACTION_DT.astype('int').astype('str')\n",
    "df.head()"
   ]
  },
  {
   "cell_type": "code",
   "execution_count": null,
   "metadata": {
    "collapsed": false
   },
   "outputs": [],
   "source": []
  },
  {
   "cell_type": "markdown",
   "metadata": {},
   "source": [
    "## Calculating Gini Index"
   ]
  },
  {
   "cell_type": "markdown",
   "metadata": {},
   "source": [
    "\n",
    "\n",
    "**Question 1: How many rows are there in the dataset for Obama? For Romney? **\n",
    "\n"
   ]
  },
  {
   "cell_type": "code",
   "execution_count": 9,
   "metadata": {
    "collapsed": false
   },
   "outputs": [
    {
     "name": "stdout",
     "output_type": "stream",
     "text": [
      "Obama: 5761, Romney: 4239\n"
     ]
    }
   ],
   "source": [
    "obama = 0\n",
    "romney = 0\n",
    "for i in range(df.CAND_ID.size):\n",
    "    if df.CAND_ID.get_value(i) == \"Obama\":\n",
    "        obama += 1\n",
    "    else:\n",
    "        romney += 1\n",
    "print(\"Obama: %d, Romney: %d\"%(obama, romney))"
   ]
  },
  {
   "cell_type": "markdown",
   "metadata": {},
   "source": [
    "**Question 2: What is the Gini Index of the this dataset, using Romney and Obama as the target classes?**"
   ]
  },
  {
   "cell_type": "code",
   "execution_count": 10,
   "metadata": {
    "collapsed": false
   },
   "outputs": [
    {
     "name": "stdout",
     "output_type": "stream",
     "text": [
      "gini index: 0.488418\n"
     ]
    }
   ],
   "source": [
    "def gini(D):\n",
    "    obama = sum(D.CAND_ID == \"Obama\")\n",
    "    romney = sum(D.CAND_ID == \"Romney\")\n",
    "    total = obama+romney\n",
    "    return 1-((obama/total)**2+(romney/total)**2)\n",
    "    \n",
    "print(\"gini index: %f\"%gini(df))"
   ]
  },
  {
   "cell_type": "markdown",
   "metadata": {},
   "source": [
    "## Best Split of a Numeric Feature"
   ]
  },
  {
   "cell_type": "markdown",
   "metadata": {},
   "source": [
    "**Question 3: What is the best split point of the TRANSACTION_AMT feature. **"
   ]
  },
  {
   "cell_type": "markdown",
   "metadata": {},
   "source": [
    "**Question 4: What is the Gini Index of this best split?**"
   ]
  },
  {
   "cell_type": "markdown",
   "metadata": {},
   "source": [
    "**Question 5: How much does this partitioning reduce the Gini Index over that of the overall dataset?**"
   ]
  },
  {
   "cell_type": "markdown",
   "metadata": {},
   "source": [
    "**Question 6: How many Romney rows are below your best split point? Obama rows?**"
   ]
  },
  {
   "cell_type": "markdown",
   "metadata": {},
   "source": [
    "**Question 7: How many Romney rows are above your best split point? Obama rows?**"
   ]
  },
  {
   "cell_type": "markdown",
   "metadata": {},
   "source": [
    "Recall that, to calculate the best split of this numeric field, you'll need to order your data by TRANSACTION AMT, then consider the midpoint between each pair of consecutive transaction amounts as a potential split point, then calculate the Gini Index for that partitioning. You'll want to keep track of the best split point and its Gini Index (remember that you are trying to minimize the Gini Index). \n",
    "\n",
    "There are a lot of ways to do this. Some are very fast, others very slow. One tip to make this run quickly is, as you consecutively step through the data and calculate the Gini Index of each possible split point, keep a running total of the number of rows for each candidate that are located above and below the split point. \n",
    "\n",
    "Some Python tips: \n",
    "\n",
    "* Counter(), from the collections module, is a special dictionary for counting values of a key\n",
    "* zip() lets you concatenate lists into a list of tuples (for example, if we have a list of the candidates and a list of transaction amounts, zip(candidate_list, transaction_amount) would give us a list of (candidate, transaction amount) pairs"
   ]
  },
  {
   "cell_type": "code",
   "execution_count": 23,
   "metadata": {
    "collapsed": false
   },
   "outputs": [
    {
     "name": "stdout",
     "output_type": "stream",
     "text": [
      "split after: 8040, gini score: 0.488082, gini reduced by: 0.000336, Obama below: 4581, Obama above: 1180, Romney below: 3460, Romney above: 779\n"
     ]
    }
   ],
   "source": [
    "sortd = df.sort(column=\"TRANSACTION_AMT\")\n",
    "mingini = 1\n",
    "mini = 0\n",
    "ob1 = 0\n",
    "ob2 = sum(df.CAND_ID == \"Obama\")\n",
    "ro1 = 0\n",
    "ro2 = sum(df.CAND_ID == \"Romney\")\n",
    "total = ob2+ro2\n",
    "for i in range(df.CAND_ID.size-1):\n",
    "    if sortd.CAND_ID.get_value(i) == \"Obama\":\n",
    "        ob1 += 1\n",
    "        ob2 -= 1\n",
    "    else:\n",
    "        ro1 += 1\n",
    "        ro2 -= 1\n",
    "    low = df.TRANSACTION_AMT.get_value(i)\n",
    "    high = df.TRANSACTION_AMT.get_value(i+1)\n",
    "    if low != high:\n",
    "        tot1 = ob1+ro1\n",
    "        tot2 = ob2+ro2\n",
    "        gini1 = 1-((ob1/tot1)**2+(ro1/tot1)**2)\n",
    "        gini2 = 1-((ob2/tot2)**2+(ro2/tot2)**2)\n",
    "        ginit = gini1*((ob1+ro1)/total) + gini2*((ob2+ro2)/total)\n",
    "        if ginit < mingini:\n",
    "            mini = i\n",
    "            mingini = ginit\n",
    "            minob1 = ob1\n",
    "            minob2 = ob2\n",
    "            minro1 = ro1\n",
    "            minro2 = ro2\n",
    "\n",
    "print(\"split after: %d, gini score: %f, gini reduced by: %f, Obama below: %d, Obama above: %d, Romney below: %d, Romney above: %d\"%(mini, mingini, (gini(df)-mingini), minob1, minob2, minro1, minro2))"
   ]
  },
  {
   "cell_type": "markdown",
   "metadata": {},
   "source": [
    "## Best Split of a Categorial Variable"
   ]
  },
  {
   "cell_type": "markdown",
   "metadata": {},
   "source": [
    "**Question 8: How many possible splits are there of the ENTITY_TP feature?**"
   ]
  },
  {
   "cell_type": "markdown",
   "metadata": {},
   "source": [
    "**Question 9: Which split of ENTITY_TP best splits the Obama and Romney rows, as measured by the Gini Index?**"
   ]
  },
  {
   "cell_type": "markdown",
   "metadata": {},
   "source": [
    "**Question 10: What is the Gini Index of this best split?**"
   ]
  },
  {
   "cell_type": "markdown",
   "metadata": {},
   "source": [
    "**Question 11: How much does this partitioning reduce the Gini Index over that of the overall data set?**"
   ]
  },
  {
   "cell_type": "markdown",
   "metadata": {},
   "source": [
    "**Question 12: How many Romney rows and Obama rows are in your first partition? How many Romney rows and Obama rows are in your second partition?**"
   ]
  },
  {
   "cell_type": "markdown",
   "metadata": {},
   "source": [
    "In this exercise, you will be partitioning the original dataset (as opposed to further partitioning the transaction amount partitions from the previous set of questions).\n",
    "\n",
    "Python tip: the combinations function of the itertools module allows you to enumerate combinations of a list"
   ]
  },
  {
   "cell_type": "code",
   "execution_count": 0,
   "metadata": {
    "collapsed": false
   },
   "outputs": [],
   "source": []
  },
  {
   "cell_type": "markdown",
   "metadata": {},
   "source": [
    "## Training a decision tree"
   ]
  },
  {
   "cell_type": "markdown",
   "metadata": {},
   "source": [
    "**Question 13: Using all of the features in the original dataframe read in at the top of this notebook, train a decision tree classifier that has a depth of three (including the root node and leaf nodes). What is the accuracy of this classifier on the training data?**"
   ]
  },
  {
   "cell_type": "markdown",
   "metadata": {},
   "source": [
    "**Question 14: Export your decision tree to graphviz. Please submit a png file of this graphic to bcourses. In your write-up, write down the interpretation of the rule at each node (for example, 'Root node: rows from state AL go the the left, rows from all other states go to the right. Left child of root node: ... etc**"
   ]
  },
  {
   "cell_type": "markdown",
   "metadata": {},
   "source": [
    "**Question 15: For each of your leaf nodes, specify the percentage of Obama rows in that node (out of the total number of rows at that node).**"
   ]
  },
  {
   "cell_type": "markdown",
   "metadata": {},
   "source": [
    "See this notebook for the basics of training a decision tree in scikit-learn and exporting the outputs to view in graphviz: http://nbviewer.ipython.org/gist/tebarkley/b68c04d9b31e64ce6023\n",
    "\n",
    "Scikit-learn classifiers require class labels and features to be in numeric arrays. As such, you will need to turn your categorical features into numeric arrays using DictVectorizer. This is a helpful notebook for understanding how to do this: http://nbviewer.ipython.org/gist/sarguido/7423289. You can turn a pandas dataframe of features into a dictionary of the form needed by DictVectorizer by using df.to_dict('records'). Make sure you remove the class label first (in this case, CAND_ID). If you use the class label as a feature, your classifier will have a training accuracy of 100%! The example notebook link also shows how to turn your class labels into a numeric array using sklearn.preprocessing.LabelEncoder().\n",
    "\n",
    "We already did this for you at the top of the notebook, but before you convert your features into numeric arrays, you should always make sure they are of the correct type (ie zip code should be a string, not a float, because it is a categorical variable). \n",
    "\n",
    "Question 14 asks you to interpret the rules at each decision tree node using the graphviz output. The graphviz output looks cryptic (ie it might tell you that X[1014] < 0.5 is the best split for a particular node. To figure out what feature that corresponds to, use the .get_feature_names() function of your DictVectorizer object. If that returns something like 'CITY=PHOENIX', then you know that the left child of the node contains rows not in Phoenix ('CITY=PHOENIX' ==0) and the right child of the node contains rows in Phoenix ('CITY=PHOENIX' == 1)."
   ]
  },
  {
   "cell_type": "code",
   "execution_count": 1,
   "metadata": {
    "collapsed": false
   },
   "outputs": [],
   "source": [
    "import sklearn\n",
    "from sklearn.tree import DecisionTreeClassifier\n",
    "from sklearn.feature_extraction import DictVectorizer #to turn categorial variables into numeric arrays\n",
    "from sklearn import preprocessing #to transform the feature labels"
   ]
  },
  {
   "cell_type": "code",
   "execution_count": 162,
   "metadata": {
    "collapsed": false
   },
   "outputs": [],
   "source": []
  }
 ],
 "metadata": {
  "gist_id": "0945553f802dad1bfa88",
  "language_info": {
   "codemirror_mode": {
    "name": "ipython",
    "version": 2
   },
   "file_extension": ".py",
   "mimetype": "text/x-python",
   "name": "python",
   "nbconvert_exporter": "python",
   "pygments_lexer": "ipython2",
   "version": "2.7.3"
  }
 },
 "nbformat": 4,
 "nbformat_minor": 0
}
