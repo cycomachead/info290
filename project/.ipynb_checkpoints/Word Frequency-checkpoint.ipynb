{
 "cells": [
  {
   "cell_type": "markdown",
   "metadata": {},
   "source": [
    "# Per-Review Analysis\n",
    "\n",
    "----\n",
    "More here."
   ]
  },
  {
   "cell_type": "code",
   "execution_count": 40,
   "metadata": {
    "collapsed": false
   },
   "outputs": [],
   "source": [
    "# IMPORTS\n",
    "from __future__ import print_function\n",
    "from pandas import *\n",
    "from sklearn.ensemble import RandomForestClassifier\n",
    "from sklearn.cross_validation import cross_val_score\n",
    "import sklearn\n",
    "import csv\n",
    "import os\n",
    "import numpy as np\n",
    "from collections import defaultdict\n",
    "\n",
    "# Constants\n",
    "REVIEWS_CSV = 'processed/word-freq-by-review/'\n",
    "ALL_WORDS_FILE = 'processed/all_sorted'\n",
    "DATA_DIR = 'processed/pandas/'\n",
    "ALL_WORDS = []\n",
    "# Map an id to an array for row numbers\n",
    "TRAINING_ROWS = {}\n",
    "TEST_ROWS = {}\n",
    "# Style: [beer ids]\n",
    "STYLES = defaultdict(list)\n",
    "ALL_STYLES = []\n",
    "# data...\n",
    "DATA = {}\n",
    "\n",
    "\n",
    "# Word Filtering\n",
    "SMALL_A = 97\n",
    "SMALL_Z = SMALL_A + 26\n",
    "\n",
    "def is_worth_keeping(word):\n",
    "    word = word.lower()\n",
    "    word = word.strip()\n",
    "    if len(word) >= 3:\n",
    "        for c in word:\n",
    "            if ord(c) < SMALL_A or ord(c) > SMALL_Z:\n",
    "                return False\n",
    "        return True\n",
    "    return False\n",
    "\n",
    "def walkDir(base):\n",
    "    \"\"\"\n",
    "    Generate a single list of all the files in a directory\n",
    "    DFS, and include the full path relative to base.\n",
    "\n",
    "    \"\"\"\n",
    "    files = list(os.walk(base))\n",
    "    files = files[1:]\n",
    "    paths = []\n",
    "    for group in files:\n",
    "        for f in group[2]:\n",
    "            paths.append(group[0] + '/' + f)\n",
    "    paths = list(filter(lambda x: x.find('.txt') == -1, paths))\n",
    "    return paths"
   ]
  },
  {
   "cell_type": "code",
   "execution_count": null,
   "metadata": {
    "collapsed": true
   },
   "outputs": [],
   "source": []
  },
  {
   "cell_type": "code",
   "execution_count": 18,
   "metadata": {
    "collapsed": false,
    "scrolled": false
   },
   "outputs": [
    {
     "name": "stdout",
     "output_type": "stream",
     "text": [
      "Found: 259005 total words\n",
      "Found: 232090 usable words\n"
     ]
    }
   ],
   "source": [
    "# Read In Files\n",
    "with open(ALL_WORDS_FILE, 'r') as f:\n",
    "    lines = f.readlines()\n",
    "    print('Found:', len(lines), 'total words')\n",
    "    ALL_WORDS = [word for word in lines if is_worth_keeping(word)]    \n",
    "print('Found:', len(ALL_WORDS), 'usable words')"
   ]
  },
  {
   "cell_type": "code",
   "execution_count": null,
   "metadata": {
    "collapsed": false
   },
   "outputs": [],
   "source": [
    "paths = walkDir(REVIEWS_CSV)\n",
    "errors = []\n",
    "for p in paths:\n",
    "    parts = p.split('/')\n",
    "    style = parts[2]\n",
    "    id = parts[3]\n",
    "    # Setup\n",
    "    STYLES[style] += [ id ] # contains an array of file ids\n",
    "    TRAINING_ROWS[id] = []\n",
    "    TEST_ROWS[id] = []\n",
    "    #raw_data = ''\n",
    "    #with open(p, 'r+') as f:\n",
    "    #    raw_data = f.read()\n",
    "    if id not in DATA:\n",
    "        try:\n",
    "            csv_data = read_csv(p, header=0)\n",
    "            # Cleanup bad first columns...\n",
    "            del csv_data[csv_data.icol(0).name]\n",
    "            DATA[id] = csv_data\n",
    "        except Exception as e:\n",
    "            print(e)\n",
    "            errors.append(p)\n",
    "            print(p)"
   ]
  },
  {
   "cell_type": "code",
   "execution_count": null,
   "metadata": {
    "collapsed": false
   },
   "outputs": [],
   "source": [
    "len(DATA.keys())"
   ]
  },
  {
   "cell_type": "code",
   "execution_count": null,
   "metadata": {
    "collapsed": true
   },
   "outputs": [],
   "source": []
  },
  {
   "cell_type": "code",
   "execution_count": null,
   "metadata": {
    "collapsed": true
   },
   "outputs": [],
   "source": []
  }
 ],
 "metadata": {
  "kernelspec": {
   "display_name": "Python 2",
   "language": "python",
   "name": "python2"
  },
  "language_info": {
   "codemirror_mode": {
    "name": "ipython",
    "version": 2
   },
   "file_extension": ".py",
   "mimetype": "text/x-python",
   "name": "python",
   "nbconvert_exporter": "python",
   "pygments_lexer": "ipython2",
   "version": "2.7.6"
  }
 },
 "nbformat": 4,
 "nbformat_minor": 0
}
